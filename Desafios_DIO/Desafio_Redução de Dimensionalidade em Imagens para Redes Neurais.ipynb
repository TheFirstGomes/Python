{
 "cells": [
  {
   "cell_type": "markdown",
   "id": "edd15a15",
   "metadata": {},
   "source": [
    "# Projeto para redução de dimensionalidade em imagens.\n",
    "\n",
    "Seguindo o exemplo do algoritmo de binarização apresentado em nossa última aula, realize a implementação em Python para transformar uma imagem colorida para níveis de cinza (0 a 255) e para binarizada (0 e 255), preto e branco."
   ]
  },
  {
   "cell_type": "code",
   "execution_count": 1,
   "id": "83a972ba",
   "metadata": {},
   "outputs": [],
   "source": [
    "# Importação da Biblioteca para visualizar a imagem e entender melhor como funciona a biblioteca\n",
    "from PIL import Image"
   ]
  },
  {
   "cell_type": "code",
   "execution_count": 7,
   "id": "5f9b85d5",
   "metadata": {},
   "outputs": [],
   "source": [
    "# Imagem que irei trabalhar\n",
    "img = Image.open(\"jon_snow_daenerys.jpg\")\n",
    "img.show()"
   ]
  },
  {
   "cell_type": "code",
   "execution_count": 18,
   "id": "1a9dcf4e",
   "metadata": {},
   "outputs": [],
   "source": [
    "# Função que irá converter a imagem para escala de cinza:\n",
    "\n",
    "#Primeira parte recebe um parâmetro que é a imagem que vamos trabalhar\n",
    "def grayscale(colored):\n",
    "    \n",
    "    #Pega as dimensões da imagem\n",
    "    w, h = colored.size\n",
    "    \n",
    "    #Crie uma nova imagem em escala de cinza\n",
    "    img = Image.new(\"RGB\", (w, h))\n",
    "    \n",
    "    #Percorre toda a largura da imagem (colunas)\n",
    "    for x in range(w):\n",
    "        \n",
    "        # Percorre toda a altura (linhas)\n",
    "        for y in range(h):\n",
    "            pxl = colored.getpixel((x,y))\n",
    "            \n",
    "            # Média dos valores do RGB do pixel\n",
    "            # As escalas de valores usados é tirado do Wikipédia referente aos calculos de cinza\n",
    "            lum = int(0.3*pxl[0] + 0.59*pxl[1] + 0.11*pxl[2])\n",
    "            \n",
    "            #Coloca as cores na imagem\n",
    "            img.putpixel((x, y), (lum, lum, lum))\n",
    "            \n",
    "    return img  "
   ]
  },
  {
   "cell_type": "code",
   "execution_count": 17,
   "id": "cc26e47d",
   "metadata": {},
   "outputs": [],
   "source": [
    "#Trazer a imagem em escala de cinza\n",
    "img = grayscale(img)\n",
    "img.show()"
   ]
  },
  {
   "cell_type": "code",
   "execution_count": null,
   "id": "2639ef41",
   "metadata": {},
   "outputs": [],
   "source": []
  },
  {
   "cell_type": "code",
   "execution_count": 57,
   "id": "269ecac1",
   "metadata": {},
   "outputs": [],
   "source": [
    "# Convetendo a imagem para escala de tons preto e branco\n",
    "\n",
    "def grayscale_binary(img, threshold):\n",
    "    \n",
    "    #Primeiro converto em escala de cinza\n",
    "    grayscale_image = grayscale(img)\n",
    "    \n",
    "    #Obter todos os pixels da imagem\n",
    "    pixels = grayscale_image.load()\n",
    "    \n",
    "    #Criar uma nova imagem:\n",
    "    binary_image = Image.new(\"L\", grayscale_image.size)\n",
    "    \n",
    "    #Obter os pixels da imagem:\n",
    "    binary_pixels = binary_image.load()\n",
    "    \n",
    "    #Percorrer toda a imagem:\n",
    "    for i in range(grayscale_image.width):\n",
    "        for j in range(grayscale_image.height):\n",
    "            \n",
    "            #Obter o valor do pixel em escala de cinza\n",
    "            pixel_value = pixels[i,j]\n",
    "            \n",
    "            #Calcular a média dos valores RGB\n",
    "            gray_intensity = sum(pixel_value) // len(pixel_value)\n",
    "            \n",
    "            #Verificar se o valor do pixel é maior que o limiar\n",
    "            if gray_intensity > threshold:\n",
    "                binary_pixels[i,j] = 255 # Define pixel como branco\n",
    "            else:\n",
    "                binary_pixels[i,j] = 0 #Define pixel como preto\n",
    "                \n",
    "    return binary_image"
   ]
  },
  {
   "cell_type": "code",
   "execution_count": 58,
   "id": "bd2b5c8b",
   "metadata": {},
   "outputs": [],
   "source": [
    "#Limiar das cores e a visualização da imagem\n",
    "threshold_value = 188\n",
    "binary_image = grayscale_binary(img, threshold_value)\n",
    "binary_image.show()"
   ]
  },
  {
   "cell_type": "code",
   "execution_count": null,
   "id": "93c26ff9",
   "metadata": {},
   "outputs": [],
   "source": []
  }
 ],
 "metadata": {
  "kernelspec": {
   "display_name": "Python 3 (ipykernel)",
   "language": "python",
   "name": "python3"
  },
  "language_info": {
   "codemirror_mode": {
    "name": "ipython",
    "version": 3
   },
   "file_extension": ".py",
   "mimetype": "text/x-python",
   "name": "python",
   "nbconvert_exporter": "python",
   "pygments_lexer": "ipython3",
   "version": "3.11.5"
  }
 },
 "nbformat": 4,
 "nbformat_minor": 5
}

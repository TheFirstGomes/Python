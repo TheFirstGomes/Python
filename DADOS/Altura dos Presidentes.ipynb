{
 "cells": [
  {
   "cell_type": "code",
   "execution_count": 29,
   "id": "24c9a2c0",
   "metadata": {},
   "outputs": [],
   "source": [
    "import pandas as pd\n",
    "import numpy as np\n",
    "import matplotlib.pyplot as plt\n",
    "import seaborn as sns\n",
    "sns.set()"
   ]
  },
  {
   "cell_type": "code",
   "execution_count": 2,
   "id": "24d6af95",
   "metadata": {},
   "outputs": [],
   "source": [
    "data = pd.read_csv(\"president_heights.csv\")"
   ]
  },
  {
   "cell_type": "code",
   "execution_count": 4,
   "id": "b01b6923",
   "metadata": {},
   "outputs": [
    {
     "name": "stdout",
     "output_type": "stream",
     "text": [
      "   order               name  height(cm)\n",
      "0      1  George Washington         189\n",
      "1      2         John Adams         170\n",
      "2      3   Thomas Jefferson         189\n",
      "3      4      James Madison         163\n",
      "4      5       James Monroe         183\n"
     ]
    }
   ],
   "source": [
    "print(data.head())"
   ]
  },
  {
   "cell_type": "code",
   "execution_count": 7,
   "id": "d364724e",
   "metadata": {},
   "outputs": [
    {
     "name": "stdout",
     "output_type": "stream",
     "text": [
      "[189 170 189 163 183 171 185 168 173 183 173 173 175 178 183 193 178 173\n",
      " 174 183 183 168 170 178 182 180 183 178 182 188 175 179 183 193 182 183\n",
      " 177 185 188 188 182 185]\n"
     ]
    }
   ],
   "source": [
    "#Extrair as alturas dos dados\n",
    "altura = np.array(data[\"height(cm)\"])\n",
    "print(altura)"
   ]
  },
  {
   "cell_type": "code",
   "execution_count": 25,
   "id": "d1b3fd20",
   "metadata": {},
   "outputs": [
    {
     "name": "stdout",
     "output_type": "stream",
     "text": [
      "Média das alturas são: 180 cm\n",
      "Desvio padrão de altura é: 6.932\n",
      "Altura mínima é: 163 cm\n",
      "Altura máxima é: 193 cm\n"
     ]
    }
   ],
   "source": [
    "print(f\"Média das alturas são: {altura.mean():.0f} cm\")\n",
    "print(f\"Desvio padrão de altura é: {altura.std():.3f}\")\n",
    "print(f\"Altura mínima é: {altura.min()} cm\")\n",
    "print(f\"Altura máxima é: {altura.max()} cm\")"
   ]
  },
  {
   "cell_type": "code",
   "execution_count": 28,
   "id": "1200681c",
   "metadata": {},
   "outputs": [
    {
     "name": "stdout",
     "output_type": "stream",
     "text": [
      "1° percentil é: 174 cm\n",
      "Mediana é de: 182 cm\n",
      "3° percentil é: 183 cm\n"
     ]
    }
   ],
   "source": [
    "print(f\"1° percentil é: {np.percentile(altura, 25):.0f} cm\")\n",
    "print(f\"Mediana é de: {np.median(altura):.0f} cm\")\n",
    "print(f\"3° percentil é: {np.percentile(altura, 75):.0f} cm\")"
   ]
  },
  {
   "cell_type": "code",
   "execution_count": 30,
   "id": "eb45e0e9",
   "metadata": {},
   "outputs": [
    {
     "data": {
      "image/png": "[encoded data removed]",
      "text/plain": [
       "<Figure size 640x480 with 1 Axes>"
      ]
     },
     "metadata": {},
     "output_type": "display_data"
    }
   ],
   "source": [
    "plt.hist(altura)\n",
    "plt.title(\"Distribuição das altura dos Presidentes dos EUA\")\n",
    "plt.xlabel(\"Altura(cm)\")\n",
    "plt.ylabel(\"Total\")\n",
    "plt.show()"
   ]
  },
  {
   "cell_type": "code",
   "execution_count": null,
   "id": "55a2db13",
   "metadata": {},
   "outputs": [],
   "source": []
  }
 ],
 "metadata": {
  "kernelspec": {
   "display_name": "Python 3 (ipykernel)",
   "language": "python",
   "name": "python3"
  },
  "language_info": {
   "codemirror_mode": {
    "name": "ipython",
    "version": 3
   },
   "file_extension": ".py",
   "mimetype": "text/x-python",
   "name": "python",
   "nbconvert_exporter": "python",
   "pygments_lexer": "ipython3",
   "version": "3.11.5"
  }
 },
 "nbformat": 4,
 "nbformat_minor": 5
}

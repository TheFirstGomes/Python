{
 "cells": [
  {
   "cell_type": "code",
   "execution_count": 1,
   "id": "da379f8d",
   "metadata": {},
   "outputs": [
    {
     "name": "stdout",
     "output_type": "stream",
     "text": [
      "WARNING:tensorflow:From C:\\Users\\luan.gomes\\AppData\\Local\\anaconda3\\Lib\\site-packages\\keras\\src\\losses.py:2976: The name tf.losses.sparse_softmax_cross_entropy is deprecated. Please use tf.compat.v1.losses.sparse_softmax_cross_entropy instead.\n",
      "\n"
     ]
    }
   ],
   "source": [
    "from tensorflow.keras import datasets, layers, models\n",
    "import matplotlib.pyplot as plt\n",
    "import tensorflow as tf\n",
    "import numpy as np\n",
    "import pandas as pd\n",
    "import seaborn as sns"
   ]
  },
  {
   "cell_type": "code",
   "execution_count": 2,
   "id": "d9971ec8",
   "metadata": {},
   "outputs": [
    {
     "data": {
      "text/plain": [
       "'2.15.0'"
      ]
     },
     "execution_count": 2,
     "metadata": {},
     "output_type": "execute_result"
    }
   ],
   "source": [
    "tf.__version__"
   ]
  },
  {
   "cell_type": "code",
   "execution_count": 3,
   "id": "70c65a51",
   "metadata": {},
   "outputs": [],
   "source": [
    "%load_ext tensorboard"
   ]
  },
  {
   "cell_type": "code",
   "execution_count": 4,
   "id": "cc1d4d20",
   "metadata": {},
   "outputs": [],
   "source": [
    "logdir = 'log'"
   ]
  },
  {
   "cell_type": "code",
   "execution_count": 11,
   "id": "b68fdbca",
   "metadata": {},
   "outputs": [],
   "source": [
    "#Algoritmo de treinamento rodando com 10 classes do Mnist\n",
    "\n",
    "(train_images, train_labels), (test_images, test_labels) = datasets.mnist.load_data()\n",
    "\n",
    "train_images = train_images.reshape((60000, 28, 28,1))\n",
    "test_images = test_images.reshape(10000, 28, 28, 1)\n",
    "\n",
    "train_images, test_images = train_images / 255.0, test_images / 255.0\n",
    "\n",
    "classes = [0,1,2,3,4,5,6,7,8,9]"
   ]
  },
  {
   "cell_type": "code",
   "execution_count": 14,
   "id": "648d125e",
   "metadata": {},
   "outputs": [],
   "source": [
    "model = models.Sequential()\n",
    "model.add(layers.Conv2D(32, (3,3), activation='relu', input_shape=(28,28,1)))\n",
    "model.add(layers.MaxPooling2D((2,2)))\n",
    "model.add(layers.Conv2D(64, (3,3), activation='relu'))\n",
    "model.add(layers.MaxPooling2D((2,2)))\n",
    "model.add(layers.Conv2D(64, (3,3), activation='relu'))\n",
    "\n",
    "model.add(layers.Flatten())\n",
    "model.add(layers.Dense(64, activation='relu'))\n",
    "model.add(layers.Dense(10, activation='softmax'))"
   ]
  },
  {
   "cell_type": "code",
   "execution_count": 15,
   "id": "1c9a1c42",
   "metadata": {},
   "outputs": [],
   "source": [
    "tensorboard_callback = tf.keras.callbacks.TensorBoard(logdir, histogram_freq=1)"
   ]
  },
  {
   "cell_type": "code",
   "execution_count": 16,
   "id": "53a7c80c",
   "metadata": {},
   "outputs": [
    {
     "name": "stdout",
     "output_type": "stream",
     "text": [
      "WARNING:tensorflow:From C:\\Users\\luan.gomes\\AppData\\Local\\anaconda3\\Lib\\site-packages\\keras\\src\\optimizers\\__init__.py:309: The name tf.train.Optimizer is deprecated. Please use tf.compat.v1.train.Optimizer instead.\n",
      "\n",
      "Epoch 1/5\n",
      "WARNING:tensorflow:From C:\\Users\\luan.gomes\\AppData\\Local\\anaconda3\\Lib\\site-packages\\keras\\src\\utils\\tf_utils.py:492: The name tf.ragged.RaggedTensorValue is deprecated. Please use tf.compat.v1.ragged.RaggedTensorValue instead.\n",
      "\n",
      "WARNING:tensorflow:From C:\\Users\\luan.gomes\\AppData\\Local\\anaconda3\\Lib\\site-packages\\keras\\src\\engine\\base_layer_utils.py:384: The name tf.executing_eagerly_outside_functions is deprecated. Please use tf.compat.v1.executing_eagerly_outside_functions instead.\n",
      "\n",
      "1875/1875 [==============================] - 10s 5ms/step - loss: 0.1446 - accuracy: 0.9553 - val_loss: 0.0461 - val_accuracy: 0.9842\n",
      "Epoch 2/5\n",
      "1875/1875 [==============================] - 9s 5ms/step - loss: 0.0457 - accuracy: 0.9854 - val_loss: 0.0333 - val_accuracy: 0.9891\n",
      "Epoch 3/5\n",
      "1875/1875 [==============================] - 9s 5ms/step - loss: 0.0332 - accuracy: 0.9898 - val_loss: 0.0297 - val_accuracy: 0.9904\n",
      "Epoch 4/5\n",
      "1875/1875 [==============================] - 9s 5ms/step - loss: 0.0262 - accuracy: 0.9913 - val_loss: 0.0288 - val_accuracy: 0.9906\n",
      "Epoch 5/5\n",
      "1875/1875 [==============================] - 9s 5ms/step - loss: 0.0200 - accuracy: 0.9938 - val_loss: 0.0294 - val_accuracy: 0.9916\n"
     ]
    },
    {
     "data": {
      "text/plain": [
       "<keras.src.callbacks.History at 0x16e53a2ced0>"
      ]
     },
     "execution_count": 16,
     "metadata": {},
     "output_type": "execute_result"
    }
   ],
   "source": [
    "model.compile(optimizer='adam',\n",
    "             loss='sparse_categorical_crossentropy',\n",
    "             metrics=['accuracy'])\n",
    "\n",
    "model.fit(x=train_images, \n",
    "         y=train_labels,\n",
    "         epochs=5,\n",
    "         validation_data=(test_images, test_labels))"
   ]
  },
  {
   "cell_type": "code",
   "execution_count": 26,
   "id": "e444d7e8",
   "metadata": {},
   "outputs": [
    {
     "name": "stdout",
     "output_type": "stream",
     "text": [
      "313/313 [==============================] - 1s 2ms/step\n"
     ]
    }
   ],
   "source": [
    "y_true = test_labels\n",
    "\n",
    "# A uma substituiçao do predict_classes para as duas variáveis abaixo, devido não estar mais disponível na versão recente do TensorFlow\n",
    "#Agora se utiliza do model.predict para trazer a probabilidade de pertencimento\n",
    "# e np.argmax para trazer a maior probabilidade de acordo com o modelo\n",
    "\n",
    "y_pred_probabilities = model.predict(test_images)\n",
    "Y_pred_classes = np.argmax(y_pred_probabilities, axis=1)"
   ]
  },
  {
   "cell_type": "code",
   "execution_count": 27,
   "id": "4fb20c49",
   "metadata": {},
   "outputs": [],
   "source": [
    "classes = [0,1,2,3,4,5,6,7,8,9]"
   ]
  },
  {
   "cell_type": "code",
   "execution_count": 31,
   "id": "9e0ab62a",
   "metadata": {
    "scrolled": false
   },
   "outputs": [
    {
     "data": {
      "image/png": "[encoded data removed]",
      "text/plain": [
       "<Figure size 800x800 with 2 Axes>"
      ]
     },
     "metadata": {},
     "output_type": "display_data"
    }
   ],
   "source": [
    "con_mat = tf.math.confusion_matrix(labels=y_true, predictions=Y_pred_classes).numpy()\n",
    "con_mat_norm = np.around(con_mat.astype('float') / con_mat.sum(axis=1)[:,np.newaxis], decimals=2)\n",
    "\n",
    "con_mat_df = pd.DataFrame(con_mat_norm, \n",
    "                         index = classes,\n",
    "                         columns= classes)\n",
    "\n",
    "figure = plt.figure(figsize=(8,8))\n",
    "sns.heatmap(con_mat_df, annot=True, cmap=plt.cm.Blues)\n",
    "plt.tight_layout()\n",
    "plt.ylabel(\"True Label\")\n",
    "plt.xlabel(\"Predicted Label\")\n",
    "plt.show()"
   ]
  },
  {
   "cell_type": "code",
   "execution_count": 33,
   "id": "9acaf834",
   "metadata": {},
   "outputs": [
    {
     "name": "stdout",
     "output_type": "stream",
     "text": [
      "Ordem das classes: [0 1 2 3 4 5 6 7 8 9]\n"
     ]
    }
   ],
   "source": [
    "#Teste de código para verificar mais especificamente a ordem das classes novamente\n",
    "unique_labels = np.unique(test_labels)\n",
    "print(\"Ordem das classes:\", unique_labels)"
   ]
  },
  {
   "cell_type": "code",
   "execution_count": 36,
   "id": "4f01da96",
   "metadata": {},
   "outputs": [],
   "source": [
    "# Classe para as métricas da matriz de precisão\n",
    "class Metrics:\n",
    "    def __init__(self, con_mat):\n",
    "        self.VP = con_mat[1,1]\n",
    "        self.VN = con_mat[0,0]\n",
    "        self.FP = con_mat[0,1]\n",
    "        self.FN = con_mat[1,0]\n",
    "    \n",
    "    def acuracia(self):\n",
    "        return (self.VP + self.VN) / (self.VP + self.VN + self.FP + self.FN)\n",
    "    \n",
    "    def sensibilidade(self):\n",
    "        return self.VP / (self.VP + self.FN)\n",
    "    \n",
    "    def especificidade(self):\n",
    "        return self.VN / (self.VN + self.FP)\n",
    "    \n",
    "    def precisao(self):\n",
    "        return self.VP / (self.VP + self.FP)\n",
    "    \n",
    "    def f_score(self):\n",
    "        prec = self.precisao()\n",
    "        rec = self.sensibilidade()\n",
    "        return 2*(prec * rec) / (prec + rec)"
   ]
  },
  {
   "cell_type": "code",
   "execution_count": 39,
   "id": "060227ff",
   "metadata": {},
   "outputs": [],
   "source": [
    "#Instanciar a classe Metrics para o uso e calcular\n",
    "metricas = Metrics(con_mat)\n",
    "\n",
    "acc = metricas.acuracia()\n",
    "rec = metricas.acuracia()\n",
    "spec = metricas.especificidade()\n",
    "prec = metricas.especificidade()\n",
    "fk = metricas.f_score()"
   ]
  },
  {
   "cell_type": "code",
   "execution_count": 41,
   "id": "aad79282",
   "metadata": {},
   "outputs": [
    {
     "name": "stdout",
     "output_type": "stream",
     "text": [
      "Acurácia: 1.0\n",
      "Sensibilidade: 1.0\n",
      "Especificidade: 1.0\n",
      "Precisão: 1.0\n",
      "F-Score: 1.0\n"
     ]
    }
   ],
   "source": [
    "print(f\"Acurácia: {acc}\")\n",
    "print(f\"Sensibilidade: {rec}\")\n",
    "print(f\"Especificidade: {spec}\")\n",
    "print(f\"Precisão: {prec}\")\n",
    "print(f\"F-Score: {fk}\")"
   ]
  },
  {
   "cell_type": "code",
   "execution_count": null,
   "id": "6acb1502",
   "metadata": {},
   "outputs": [],
   "source": []
  }
 ],
 "metadata": {
  "kernelspec": {
   "display_name": "Python 3 (ipykernel)",
   "language": "python",
   "name": "python3"
  },
  "language_info": {
   "codemirror_mode": {
    "name": "ipython",
    "version": 3
   },
   "file_extension": ".py",
   "mimetype": "text/x-python",
   "name": "python",
   "nbconvert_exporter": "python",
   "pygments_lexer": "ipython3",
   "version": "3.11.5"
  }
 },
 "nbformat": 4,
 "nbformat_minor": 5
}
